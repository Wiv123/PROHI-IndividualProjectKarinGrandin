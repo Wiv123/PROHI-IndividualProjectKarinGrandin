{
 "cells": [
  {
   "cell_type": "code",
   "execution_count": 1,
   "id": "625d6bf4",
   "metadata": {},
   "outputs": [
    {
     "ename": "ModuleNotFoundError",
     "evalue": "No module named 'faker'",
     "output_type": "error",
     "traceback": [
      "\u001b[31m---------------------------------------------------------------------------\u001b[39m",
      "\u001b[31mModuleNotFoundError\u001b[39m                       Traceback (most recent call last)",
      "\u001b[36mCell\u001b[39m\u001b[36m \u001b[39m\u001b[32mIn[1]\u001b[39m\u001b[32m, line 4\u001b[39m\n\u001b[32m      2\u001b[39m \u001b[38;5;28;01mimport\u001b[39;00m\u001b[38;5;250m \u001b[39m\u001b[34;01mnumpy\u001b[39;00m\u001b[38;5;250m \u001b[39m\u001b[38;5;28;01mas\u001b[39;00m\u001b[38;5;250m \u001b[39m\u001b[34;01mnp\u001b[39;00m\n\u001b[32m      3\u001b[39m \u001b[38;5;28;01mimport\u001b[39;00m\u001b[38;5;250m \u001b[39m\u001b[34;01mpandas\u001b[39;00m\u001b[38;5;250m \u001b[39m\u001b[38;5;28;01mas\u001b[39;00m\u001b[38;5;250m \u001b[39m\u001b[34;01mpd\u001b[39;00m\n\u001b[32m----> \u001b[39m\u001b[32m4\u001b[39m \u001b[38;5;28;01mfrom\u001b[39;00m\u001b[38;5;250m \u001b[39m\u001b[34;01mfaker\u001b[39;00m\u001b[38;5;250m \u001b[39m\u001b[38;5;28;01mimport\u001b[39;00m Faker\n\u001b[32m      5\u001b[39m \u001b[38;5;28;01mimport\u001b[39;00m\u001b[38;5;250m \u001b[39m\u001b[34;01mrandom\u001b[39;00m\n",
      "\u001b[31mModuleNotFoundError\u001b[39m: No module named 'faker'"
     ]
    }
   ],
   "source": [
    "import streamlit\n",
    "import numpy as np\n",
    "import pandas as pd\n",
    "from faker import Faker\n",
    "import random"
   ]
  },
  {
   "cell_type": "code",
   "execution_count": null,
   "id": "b6a459a3",
   "metadata": {},
   "outputs": [],
   "source": [
    "Speech_pathology_ds = Faker(sv_SE)\n",
    "num_samples = 3045\n",
    "\n",
    "\n",
    "patient_category = [\"Dyslexia\", \"Developmental Language Disorder\", \"Selective Mutism\", \"Stuttering\"]\n",
    "visit_type = [\"Assessment\", \"Treatment\", \"New visit\", \"Meeting\"]\n",
    "language = [\"Swedish\"]*10 + [\"English\", \"Spanish\", \"Russian\", \"Arabic\", \"Urdu\", \"Pashto\", \"Tigrinja\", \"Somali\", \"Dari\", \"Bengali\", \"Sorani\", \"Kurmanji\", \"Persian\", \"Turkish\", \"French\"]\n",
    "\n",
    "data = pd.DataFrame({\n",
    "    'Name': [fake.name() for _ in range(num_samples)],\n",
    "    'Age': [fake.random_int(min=2, max=40) for _ in range(num_samples)],\n",
    "    'Patient Category': [random.choice(patient_category) for i in range(num_samples)],\n",
    "    'Visit Type': [random.choice(visit_type) for i in range(num_samples)],\n",
    "    'Region of Origin': [fake.state() for _ in range(num_samples)],\n",
    "    'Distance': [random.choice([True, False]) for i in range(num_samples)],\n",
    "    'Preferred Language': [random.choice(language) for i in range(num_samples)]\n",
    "\n",
    "\n",
    "\n",
    "\n",
    "})\n",
    "\n",
    "data.head()"
   ]
  },
  {
   "cell_type": "code",
   "execution_count": null,
   "id": "a6401779",
   "metadata": {},
   "outputs": [],
   "source": [
    "#Save the dataset\n",
    "data.to_csv(\"speech_pathology_dataset.csv\", index=False)\n"
   ]
  }
 ],
 "metadata": {
  "kernelspec": {
   "display_name": "base",
   "language": "python",
   "name": "python3"
  },
  "language_info": {
   "codemirror_mode": {
    "name": "ipython",
    "version": 3
   },
   "file_extension": ".py",
   "mimetype": "text/x-python",
   "name": "python",
   "nbconvert_exporter": "python",
   "pygments_lexer": "ipython3",
   "version": "3.12.7"
  }
 },
 "nbformat": 4,
 "nbformat_minor": 5
}
